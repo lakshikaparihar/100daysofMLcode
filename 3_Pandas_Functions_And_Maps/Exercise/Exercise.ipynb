{
 "cells": [
  {
   "cell_type": "markdown",
   "source": [
    "# Import Libraries"
   ],
   "metadata": {}
  },
  {
   "cell_type": "code",
   "execution_count": 1,
   "source": [
    "import pandas as pd\r\n",
    "reviews = pd.read_csv(\"winemag-data_first150k.csv\")\r\n",
    "reviews.head()"
   ],
   "outputs": [
    {
     "output_type": "execute_result",
     "data": {
      "text/html": [
       "<div>\n",
       "<style scoped>\n",
       "    .dataframe tbody tr th:only-of-type {\n",
       "        vertical-align: middle;\n",
       "    }\n",
       "\n",
       "    .dataframe tbody tr th {\n",
       "        vertical-align: top;\n",
       "    }\n",
       "\n",
       "    .dataframe thead th {\n",
       "        text-align: right;\n",
       "    }\n",
       "</style>\n",
       "<table border=\"1\" class=\"dataframe\">\n",
       "  <thead>\n",
       "    <tr style=\"text-align: right;\">\n",
       "      <th></th>\n",
       "      <th>Unnamed: 0</th>\n",
       "      <th>country</th>\n",
       "      <th>description</th>\n",
       "      <th>designation</th>\n",
       "      <th>points</th>\n",
       "      <th>price</th>\n",
       "      <th>province</th>\n",
       "      <th>region_1</th>\n",
       "      <th>region_2</th>\n",
       "      <th>variety</th>\n",
       "      <th>winery</th>\n",
       "    </tr>\n",
       "  </thead>\n",
       "  <tbody>\n",
       "    <tr>\n",
       "      <th>0</th>\n",
       "      <td>0</td>\n",
       "      <td>US</td>\n",
       "      <td>This tremendous 100% varietal wine hails from ...</td>\n",
       "      <td>Martha's Vineyard</td>\n",
       "      <td>96</td>\n",
       "      <td>235.0</td>\n",
       "      <td>California</td>\n",
       "      <td>Napa Valley</td>\n",
       "      <td>Napa</td>\n",
       "      <td>Cabernet Sauvignon</td>\n",
       "      <td>Heitz</td>\n",
       "    </tr>\n",
       "    <tr>\n",
       "      <th>1</th>\n",
       "      <td>1</td>\n",
       "      <td>Spain</td>\n",
       "      <td>Ripe aromas of fig, blackberry and cassis are ...</td>\n",
       "      <td>Carodorum Selección Especial Reserva</td>\n",
       "      <td>96</td>\n",
       "      <td>110.0</td>\n",
       "      <td>Northern Spain</td>\n",
       "      <td>Toro</td>\n",
       "      <td>NaN</td>\n",
       "      <td>Tinta de Toro</td>\n",
       "      <td>Bodega Carmen Rodríguez</td>\n",
       "    </tr>\n",
       "    <tr>\n",
       "      <th>2</th>\n",
       "      <td>2</td>\n",
       "      <td>US</td>\n",
       "      <td>Mac Watson honors the memory of a wine once ma...</td>\n",
       "      <td>Special Selected Late Harvest</td>\n",
       "      <td>96</td>\n",
       "      <td>90.0</td>\n",
       "      <td>California</td>\n",
       "      <td>Knights Valley</td>\n",
       "      <td>Sonoma</td>\n",
       "      <td>Sauvignon Blanc</td>\n",
       "      <td>Macauley</td>\n",
       "    </tr>\n",
       "    <tr>\n",
       "      <th>3</th>\n",
       "      <td>3</td>\n",
       "      <td>US</td>\n",
       "      <td>This spent 20 months in 30% new French oak, an...</td>\n",
       "      <td>Reserve</td>\n",
       "      <td>96</td>\n",
       "      <td>65.0</td>\n",
       "      <td>Oregon</td>\n",
       "      <td>Willamette Valley</td>\n",
       "      <td>Willamette Valley</td>\n",
       "      <td>Pinot Noir</td>\n",
       "      <td>Ponzi</td>\n",
       "    </tr>\n",
       "    <tr>\n",
       "      <th>4</th>\n",
       "      <td>4</td>\n",
       "      <td>France</td>\n",
       "      <td>This is the top wine from La Bégude, named aft...</td>\n",
       "      <td>La Brûlade</td>\n",
       "      <td>95</td>\n",
       "      <td>66.0</td>\n",
       "      <td>Provence</td>\n",
       "      <td>Bandol</td>\n",
       "      <td>NaN</td>\n",
       "      <td>Provence red blend</td>\n",
       "      <td>Domaine de la Bégude</td>\n",
       "    </tr>\n",
       "  </tbody>\n",
       "</table>\n",
       "</div>"
      ],
      "text/plain": [
       "   Unnamed: 0 country                                        description  \\\n",
       "0           0      US  This tremendous 100% varietal wine hails from ...   \n",
       "1           1   Spain  Ripe aromas of fig, blackberry and cassis are ...   \n",
       "2           2      US  Mac Watson honors the memory of a wine once ma...   \n",
       "3           3      US  This spent 20 months in 30% new French oak, an...   \n",
       "4           4  France  This is the top wine from La Bégude, named aft...   \n",
       "\n",
       "                            designation  points  price        province  \\\n",
       "0                     Martha's Vineyard      96  235.0      California   \n",
       "1  Carodorum Selección Especial Reserva      96  110.0  Northern Spain   \n",
       "2         Special Selected Late Harvest      96   90.0      California   \n",
       "3                               Reserve      96   65.0          Oregon   \n",
       "4                            La Brûlade      95   66.0        Provence   \n",
       "\n",
       "            region_1           region_2             variety  \\\n",
       "0        Napa Valley               Napa  Cabernet Sauvignon   \n",
       "1               Toro                NaN       Tinta de Toro   \n",
       "2     Knights Valley             Sonoma     Sauvignon Blanc   \n",
       "3  Willamette Valley  Willamette Valley          Pinot Noir   \n",
       "4             Bandol                NaN  Provence red blend   \n",
       "\n",
       "                    winery  \n",
       "0                    Heitz  \n",
       "1  Bodega Carmen Rodríguez  \n",
       "2                 Macauley  \n",
       "3                    Ponzi  \n",
       "4     Domaine de la Bégude  "
      ]
     },
     "metadata": {},
     "execution_count": 1
    }
   ],
   "metadata": {}
  },
  {
   "cell_type": "markdown",
   "source": [
    "## 1. What is the median of the `points` column in the `reviews` DataFrame?"
   ],
   "metadata": {}
  },
  {
   "cell_type": "code",
   "execution_count": 2,
   "source": [
    "reviews.points.median()"
   ],
   "outputs": [
    {
     "output_type": "execute_result",
     "data": {
      "text/plain": [
       "88.0"
      ]
     },
     "metadata": {},
     "execution_count": 2
    }
   ],
   "metadata": {}
  },
  {
   "cell_type": "markdown",
   "source": [
    "## 2. What countries are represented in the dataset? (Your answer should not include any duplicates.)"
   ],
   "metadata": {}
  },
  {
   "cell_type": "code",
   "execution_count": 3,
   "source": [
    "reviews.country.unique()"
   ],
   "outputs": [
    {
     "output_type": "execute_result",
     "data": {
      "text/plain": [
       "array(['US', 'Spain', 'France', 'Italy', 'New Zealand', 'Bulgaria',\n",
       "       'Argentina', 'Australia', 'Portugal', 'Israel', 'South Africa',\n",
       "       'Greece', 'Chile', 'Morocco', 'Romania', 'Germany', 'Canada',\n",
       "       'Moldova', 'Hungary', 'Austria', 'Croatia', 'Slovenia', nan,\n",
       "       'India', 'Turkey', 'Macedonia', 'Lebanon', 'Serbia', 'Uruguay',\n",
       "       'Switzerland', 'Albania', 'Bosnia and Herzegovina', 'Brazil',\n",
       "       'Cyprus', 'Lithuania', 'Japan', 'China', 'South Korea', 'Ukraine',\n",
       "       'England', 'Mexico', 'Georgia', 'Montenegro', 'Luxembourg',\n",
       "       'Slovakia', 'Czech Republic', 'Egypt', 'Tunisia', 'US-France'],\n",
       "      dtype=object)"
      ]
     },
     "metadata": {},
     "execution_count": 3
    }
   ],
   "metadata": {}
  },
  {
   "cell_type": "markdown",
   "source": [
    "## 3. How often does each country appear in the dataset? Create a Series `reviews_per_country` mapping countries to the count of reviews of wines from that country."
   ],
   "metadata": {}
  },
  {
   "cell_type": "code",
   "execution_count": 4,
   "source": [
    "reviews_per_country = reviews.country.value_counts()\r\n",
    "reviews_per_country"
   ],
   "outputs": [
    {
     "output_type": "execute_result",
     "data": {
      "text/plain": [
       "US                        62397\n",
       "Italy                     23478\n",
       "France                    21098\n",
       "Spain                      8268\n",
       "Chile                      5816\n",
       "Argentina                  5631\n",
       "Portugal                   5322\n",
       "Australia                  4957\n",
       "New Zealand                3320\n",
       "Austria                    3057\n",
       "Germany                    2452\n",
       "South Africa               2258\n",
       "Greece                      884\n",
       "Israel                      630\n",
       "Hungary                     231\n",
       "Canada                      196\n",
       "Romania                     139\n",
       "Slovenia                     94\n",
       "Uruguay                      92\n",
       "Croatia                      89\n",
       "Bulgaria                     77\n",
       "Moldova                      71\n",
       "Mexico                       63\n",
       "Turkey                       52\n",
       "Georgia                      43\n",
       "Lebanon                      37\n",
       "Cyprus                       31\n",
       "Brazil                       25\n",
       "Macedonia                    16\n",
       "Serbia                       14\n",
       "Morocco                      12\n",
       "Luxembourg                    9\n",
       "England                       9\n",
       "Lithuania                     8\n",
       "India                         8\n",
       "Czech Republic                6\n",
       "Ukraine                       5\n",
       "Switzerland                   4\n",
       "Bosnia and Herzegovina        4\n",
       "South Korea                   4\n",
       "China                         3\n",
       "Slovakia                      3\n",
       "Egypt                         3\n",
       "Albania                       2\n",
       "Tunisia                       2\n",
       "Montenegro                    2\n",
       "Japan                         2\n",
       "US-France                     1\n",
       "Name: country, dtype: int64"
      ]
     },
     "metadata": {},
     "execution_count": 4
    }
   ],
   "metadata": {}
  },
  {
   "cell_type": "markdown",
   "source": [
    "## 4. Create variable `centered_price` containing a version of the `price` column with the mean price subtracted.\r\n",
    "\r\n",
    "(Note: this 'centering' transformation is a common preprocessing step before applying various machine learning algorithms.) "
   ],
   "metadata": {}
  },
  {
   "cell_type": "code",
   "execution_count": 5,
   "source": [
    "centered_price = reviews.price - reviews.price.mean()\r\n",
    "centered_price"
   ],
   "outputs": [
    {
     "output_type": "execute_result",
     "data": {
      "text/plain": [
       "0         201.868518\n",
       "1          76.868518\n",
       "2          56.868518\n",
       "3          31.868518\n",
       "4          32.868518\n",
       "             ...    \n",
       "150925    -13.131482\n",
       "150926     -6.131482\n",
       "150927    -13.131482\n",
       "150928     18.868518\n",
       "150929    -18.131482\n",
       "Name: price, Length: 150930, dtype: float64"
      ]
     },
     "metadata": {},
     "execution_count": 5
    }
   ],
   "metadata": {}
  },
  {
   "cell_type": "markdown",
   "source": [
    "## 5. I'm an economical wine buyer. Which wine is the \"best bargain\"? Create a variable `bargain_wine` with the variety of the wine with the highest points-to-price ratio in the dataset."
   ],
   "metadata": {}
  },
  {
   "cell_type": "code",
   "execution_count": 6,
   "source": [
    "bargain_idx = (reviews.points / reviews.price).idxmax()\r\n",
    "bargain_wine = reviews.loc[bargain_idx, 'variety']\r\n",
    "bargain_wine"
   ],
   "outputs": [
    {
     "output_type": "execute_result",
     "data": {
      "text/plain": [
       "'Merlot'"
      ]
     },
     "metadata": {},
     "execution_count": 6
    }
   ],
   "metadata": {}
  },
  {
   "cell_type": "markdown",
   "source": [
    "## 6. There are only so many words you can use when describing a bottle of wine. Is a wine more likely to be \"tropical\" or \"fruity\"? Create a Series `descriptor_counts` counting how many times each of these two words appears in the `description` column in the dataset."
   ],
   "metadata": {}
  },
  {
   "cell_type": "code",
   "execution_count": 7,
   "source": [
    "n_trop = reviews.description.map(lambda desc: \"tropical\" in desc).sum()\r\n",
    "n_fruity = reviews.description.map(lambda desc: \"fruity\" in desc).sum()\r\n",
    "descriptor_counts = pd.Series([n_trop, n_fruity], index=['tropical', 'fruity'])\r\n",
    "descriptor_counts"
   ],
   "outputs": [
    {
     "output_type": "execute_result",
     "data": {
      "text/plain": [
       "tropical    4135\n",
       "fruity      8669\n",
       "dtype: int64"
      ]
     },
     "metadata": {},
     "execution_count": 7
    }
   ],
   "metadata": {}
  },
  {
   "cell_type": "markdown",
   "source": [
    "## 7. We'd like to host these wine reviews on our website, but a rating system ranging from 80 to 100 points is too hard to understand - we'd like to translate them into simple star ratings. A score of 95 or higher counts as 3 stars, a score of at least 85 but less than 95 is 2 stars. Any other score is 1 star.\r\n",
    "\r\n",
    "## Also, the Canadian Vintners Association bought a lot of ads on the site, so any wines from Canada should automatically get 3 stars, regardless of points.\r\n",
    "\r\n",
    "## Create a series `star_ratings` with the number of stars corresponding to each review in the dataset."
   ],
   "metadata": {}
  },
  {
   "cell_type": "code",
   "execution_count": 8,
   "source": [
    "def reviews_points(reviews):\r\n",
    "    if reviews.points >= 95 or reviews.country==\"Canada\":\r\n",
    "        return 3\r\n",
    "    elif reviews.points >= 85:\r\n",
    "        return 2\r\n",
    "    else:\r\n",
    "        return 1\r\n",
    "star_ratings = reviews.apply(reviews_points,axis=\"columns\")\r\n",
    "star_ratings"
   ],
   "outputs": [
    {
     "output_type": "execute_result",
     "data": {
      "text/plain": [
       "0         3\n",
       "1         3\n",
       "2         3\n",
       "3         3\n",
       "4         3\n",
       "         ..\n",
       "150925    2\n",
       "150926    2\n",
       "150927    2\n",
       "150928    2\n",
       "150929    2\n",
       "Length: 150930, dtype: int64"
      ]
     },
     "metadata": {},
     "execution_count": 8
    }
   ],
   "metadata": {}
  }
 ],
 "metadata": {
  "orig_nbformat": 4,
  "kernelspec": {
   "name": "python3",
   "display_name": "Python 3.9.6 64-bit"
  },
  "language_info": {
   "name": "python",
   "version": "3.9.6",
   "mimetype": "text/x-python",
   "codemirror_mode": {
    "name": "ipython",
    "version": 3
   },
   "pygments_lexer": "ipython3",
   "nbconvert_exporter": "python",
   "file_extension": ".py"
  },
  "interpreter": {
   "hash": "8b03d4cd05d71d535371b426da57de743181e37d8974a9636efe6e78873daaed"
  }
 },
 "nbformat": 4,
 "nbformat_minor": 2
}